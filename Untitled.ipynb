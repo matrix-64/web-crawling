{
 "cells": [
  {
   "cell_type": "code",
   "execution_count": 1,
   "id": "bfb49e03",
   "metadata": {},
   "outputs": [],
   "source": [
    "from selenium import webdriver\n",
    "from selenium.webdriver.chrome.service import Service\n",
    "from selenium.webdriver.common.by import By"
   ]
  },
  {
   "cell_type": "code",
   "execution_count": 24,
   "id": "965dbfab",
   "metadata": {},
   "outputs": [],
   "source": [
    "dr = webdriver.Chrome(executable_path='chromedriver.exe')\n",
    "dr.implicitly_wait(3)"
   ]
  },
  {
   "cell_type": "code",
   "execution_count": 25,
   "id": "d29070ce",
   "metadata": {},
   "outputs": [],
   "source": [
    "from bs4 import BeautifulSoup as BS\n",
    "html = dr.page_source"
   ]
  },
  {
   "cell_type": "code",
   "execution_count": 26,
   "id": "ded790ae",
   "metadata": {},
   "outputs": [],
   "source": [
    "import time\n",
    "import pandas as pd"
   ]
  },
  {
   "cell_type": "code",
   "execution_count": 27,
   "id": "52736900",
   "metadata": {},
   "outputs": [],
   "source": [
    "def READ():\n",
    "    D = []\n",
    "    D.append(dr.find_elements_by_xpath('/html/body/div[1]/div[3]/div[1]/div[2]/form/div[2]/div[2]/table/tbody/tr/td[2]'))\n",
    "    D.append(dr.find_elements_by_xpath('/html/body/div[1]/div[3]/div[1]/div[2]/form/div[2]/div[2]/table/tbody/tr/td[3]'))\n",
    "    D.append(dr.find_elements_by_xpath('/html/body/div[1]/div[3]/div[1]/div[2]/form/div[2]/div[2]/table/tbody/tr/td[6]'))\n",
    "    D.append(dr.find_elements_by_xpath('/html/body/div[1]/div[3]/div[1]/div[2]/form/div[2]/div[2]/table/tbody/tr/td[7]'))\n",
    "    D.append(dr.find_elements_by_xpath('/html/body/div[1]/div[3]/div[1]/div[2]/form/div[2]/div[2]/table/tbody/tr/td[8]'))\n",
    "    \n",
    "    for i in range(0,5):\n",
    "        head = True\n",
    "        \n",
    "        for d in range(0,len(D[i])):\n",
    "            if head:\n",
    "                head = False\n",
    "                continue\n",
    "            data[Key[i]].append(D[i][d].text)"
   ]
  },
  {
   "cell_type": "code",
   "execution_count": 28,
   "id": "7c856ed0",
   "metadata": {},
   "outputs": [],
   "source": [
    "data = {'수상등급':[],\n",
    "        '분야':[],\n",
    "        '연도':[],\n",
    "        '직위':[],\n",
    "        '소속':[]}\n",
    "\n",
    "Key = ['수상등급','분야','소속','연도','직위']\n",
    "\n",
    "dr.get('https://ssp.sen.go.kr/fus/MI000000000000000074/board/BO00000126/ctgynone/list0010v.do')\n",
    "\n",
    "for page in range(1,99):\n",
    "    time.sleep(1)\n",
    "    READ()\n",
    "    \n",
    "    #페이지 넘기기\n",
    "    if page%10 == 0:\n",
    "        dr.find_element_by_link_text('>').click()\n",
    "    else :\n",
    "        dr.find_element_by_link_text(str(page+1)).click()\n",
    "        \n",
    "READ() #99페이지"
   ]
  },
  {
   "cell_type": "code",
   "execution_count": 29,
   "id": "1f06fc4d",
   "metadata": {},
   "outputs": [],
   "source": [
    "df = pd.DataFrame(data)"
   ]
  },
  {
   "cell_type": "raw",
   "id": "2952ba3b",
   "metadata": {},
   "source": [
    "df = pd.read_csv(\"df1.csv\")"
   ]
  },
  {
   "cell_type": "code",
   "execution_count": 30,
   "id": "e3ad73eb",
   "metadata": {},
   "outputs": [],
   "source": [
    "feild = ['물리', '화학', '생물', \"지구 및 환경\", '농림수산', '산업 및 에너지']"
   ]
  },
  {
   "cell_type": "code",
   "execution_count": 31,
   "id": "b399f3e2",
   "metadata": {},
   "outputs": [],
   "source": [
    "value = {\"수상제외\":0,\"장려\":0.54288,\"장려상\":0.54288,\"우수상\":0.65359,\"특상\":1}"
   ]
  },
  {
   "cell_type": "code",
   "execution_count": 33,
   "id": "18688275",
   "metadata": {},
   "outputs": [],
   "source": [
    "cnt = [0,0,0,0,0,0]\n",
    "\n",
    "for row in df.itertuples():\n",
    "    if row[2] in (\"물리\"):\n",
    "        cnt[feild.index(\"물리\")]+=1\n",
    "    if row[2] in (\"화학\"):\n",
    "        cnt[feild.index(\"화학\")]+=1\n",
    "    if row[2] in (\"동물\",\"식물\",\"생물\"):\n",
    "        cnt[feild.index(\"생물\")]+=1\n",
    "    if row[2] in (\"지\",\"지구\",\"지구 및 환경\",\"지구및 환경\",\"지구과학\",\"환경\"):\n",
    "        cnt[feild.index(\"지구 및 환경\")]+=1\n",
    "    if row[2] in (\"농림수산\"):\n",
    "        cnt[feild.index(\"농림수산\")]+=1\n",
    "    if row[2] in (\"산업 및 에너지\",\"산업및에너지\",\"사넙및에너지\"):\n",
    "        cnt[feild.index(\"산업 및 에너지\")]+=1"
   ]
  },
  {
   "cell_type": "code",
   "execution_count": 34,
   "id": "b606dbd6",
   "metadata": {},
   "outputs": [
    {
     "data": {
      "text/plain": [
       "[217, 130, 152, 192, 39, 153]"
      ]
     },
     "execution_count": 34,
     "metadata": {},
     "output_type": "execute_result"
    }
   ],
   "source": [
    "cnt"
   ]
  },
  {
   "cell_type": "code",
   "execution_count": 35,
   "id": "274fdc2d",
   "metadata": {},
   "outputs": [],
   "source": [
    "df = df[[\"수상등급\",'분야','연도','직위','소속']]"
   ]
  },
  {
   "cell_type": "code",
   "execution_count": 36,
   "id": "de0a9fa4",
   "metadata": {},
   "outputs": [
    {
     "data": {
      "text/html": [
       "<div>\n",
       "<style scoped>\n",
       "    .dataframe tbody tr th:only-of-type {\n",
       "        vertical-align: middle;\n",
       "    }\n",
       "\n",
       "    .dataframe tbody tr th {\n",
       "        vertical-align: top;\n",
       "    }\n",
       "\n",
       "    .dataframe thead th {\n",
       "        text-align: right;\n",
       "    }\n",
       "</style>\n",
       "<table border=\"1\" class=\"dataframe\">\n",
       "  <thead>\n",
       "    <tr style=\"text-align: right;\">\n",
       "      <th></th>\n",
       "      <th>수상등급</th>\n",
       "      <th>분야</th>\n",
       "      <th>연도</th>\n",
       "      <th>직위</th>\n",
       "      <th>소속</th>\n",
       "    </tr>\n",
       "  </thead>\n",
       "  <tbody>\n",
       "    <tr>\n",
       "      <th>0</th>\n",
       "      <td>장려상</td>\n",
       "      <td>산업 및 에너지</td>\n",
       "      <td>2021</td>\n",
       "      <td>학생</td>\n",
       "      <td>서울과학고등학교</td>\n",
       "    </tr>\n",
       "    <tr>\n",
       "      <th>1</th>\n",
       "      <td>장려상</td>\n",
       "      <td>산업 및 에너지</td>\n",
       "      <td>2021</td>\n",
       "      <td>학생</td>\n",
       "      <td>미림여자고등학교</td>\n",
       "    </tr>\n",
       "    <tr>\n",
       "      <th>2</th>\n",
       "      <td>장려상</td>\n",
       "      <td>산업 및 에너지</td>\n",
       "      <td>2021</td>\n",
       "      <td>학생</td>\n",
       "      <td>휘문중학교</td>\n",
       "    </tr>\n",
       "    <tr>\n",
       "      <th>3</th>\n",
       "      <td>장려상</td>\n",
       "      <td>산업 및 에너지</td>\n",
       "      <td>2021</td>\n",
       "      <td>학생</td>\n",
       "      <td>휘문중학교</td>\n",
       "    </tr>\n",
       "    <tr>\n",
       "      <th>4</th>\n",
       "      <td>장려상</td>\n",
       "      <td>산업 및 에너지</td>\n",
       "      <td>2021</td>\n",
       "      <td>학생</td>\n",
       "      <td>신서중학교</td>\n",
       "    </tr>\n",
       "    <tr>\n",
       "      <th>...</th>\n",
       "      <td>...</td>\n",
       "      <td>...</td>\n",
       "      <td>...</td>\n",
       "      <td>...</td>\n",
       "      <td>...</td>\n",
       "    </tr>\n",
       "    <tr>\n",
       "      <th>879</th>\n",
       "      <td>특상</td>\n",
       "      <td>물리</td>\n",
       "      <td>2013</td>\n",
       "      <td>학생</td>\n",
       "      <td>휘문고등학교</td>\n",
       "    </tr>\n",
       "    <tr>\n",
       "      <th>880</th>\n",
       "      <td>특상</td>\n",
       "      <td>물리</td>\n",
       "      <td>2013</td>\n",
       "      <td>학생</td>\n",
       "      <td>세종과학고등학교</td>\n",
       "    </tr>\n",
       "    <tr>\n",
       "      <th>881</th>\n",
       "      <td>특상</td>\n",
       "      <td>물리</td>\n",
       "      <td>2013</td>\n",
       "      <td>학생</td>\n",
       "      <td>한영중학교</td>\n",
       "    </tr>\n",
       "    <tr>\n",
       "      <th>882</th>\n",
       "      <td>특상</td>\n",
       "      <td>물리</td>\n",
       "      <td>2013</td>\n",
       "      <td>학생</td>\n",
       "      <td>당중초등학교</td>\n",
       "    </tr>\n",
       "    <tr>\n",
       "      <th>883</th>\n",
       "      <td>장려</td>\n",
       "      <td>화학</td>\n",
       "      <td>2012</td>\n",
       "      <td>교사</td>\n",
       "      <td>한성과학고</td>\n",
       "    </tr>\n",
       "  </tbody>\n",
       "</table>\n",
       "<p>884 rows × 5 columns</p>\n",
       "</div>"
      ],
      "text/plain": [
       "    수상등급        분야    연도  직위        소속\n",
       "0    장려상  산업 및 에너지  2021  학생  서울과학고등학교\n",
       "1    장려상  산업 및 에너지  2021  학생  미림여자고등학교\n",
       "2    장려상  산업 및 에너지  2021  학생     휘문중학교\n",
       "3    장려상  산업 및 에너지  2021  학생     휘문중학교\n",
       "4    장려상  산업 및 에너지  2021  학생     신서중학교\n",
       "..   ...       ...   ...  ..       ...\n",
       "879   특상        물리  2013  학생    휘문고등학교\n",
       "880   특상        물리  2013  학생  세종과학고등학교\n",
       "881   특상        물리  2013  학생     한영중학교\n",
       "882   특상        물리  2013  학생    당중초등학교\n",
       "883   장려        화학  2012  교사     한성과학고\n",
       "\n",
       "[884 rows x 5 columns]"
      ]
     },
     "execution_count": 36,
     "metadata": {},
     "output_type": "execute_result"
    }
   ],
   "source": [
    "df"
   ]
  },
  {
   "cell_type": "raw",
   "id": "4054196a",
   "metadata": {},
   "source": [
    "df.to_excel(\"./df1.xlsx\")"
   ]
  },
  {
   "cell_type": "raw",
   "id": "2c3b84bd",
   "metadata": {},
   "source": [
    "df.to_csv(\"./df1.csv\")"
   ]
  },
  {
   "cell_type": "code",
   "execution_count": 38,
   "id": "6a734e1c",
   "metadata": {
    "scrolled": true
   },
   "outputs": [
    {
     "data": {
      "text/plain": [
       "['동물',\n",
       " '화학',\n",
       " '물리',\n",
       " '생물',\n",
       " '환경',\n",
       " '지구 및 환경',\n",
       " '산업 및 에너지',\n",
       " '식물',\n",
       " '산업및에너지',\n",
       " '사넙및에너지',\n",
       " '지구',\n",
       " '지구과학',\n",
       " '지',\n",
       " '농림수산',\n",
       " '지구및 환경',\n",
       " '서울과학고']"
      ]
     },
     "execution_count": 38,
     "metadata": {},
     "output_type": "execute_result"
    }
   ],
   "source": [
    "s = set(df[\"분야\"])\n",
    "type = list(s)\n",
    "type"
   ]
  },
  {
   "cell_type": "code",
   "execution_count": 39,
   "id": "c8e9bc2b",
   "metadata": {},
   "outputs": [
    {
     "data": {
      "text/plain": [
       "{'수상제외', '우수상', '장려', '장려상', '특상'}"
      ]
     },
     "execution_count": 39,
     "metadata": {},
     "output_type": "execute_result"
    }
   ],
   "source": [
    "set(df[\"수상등급\"])"
   ]
  },
  {
   "cell_type": "code",
   "execution_count": 40,
   "id": "d9ee63c3",
   "metadata": {},
   "outputs": [],
   "source": [
    "cnt_vs = [0,0,0,0]\n",
    "\n",
    "for row in df[\"수상등급\"]:\n",
    "    if row == \"수상제외\":\n",
    "        cnt_vs[0]+=1\n",
    "    if row in (\"장려\",\"장려상\"):\n",
    "        cnt_vs[1]+=1\n",
    "    if row == \"우수상\":\n",
    "        cnt_vs[2]+=1\n",
    "    if row == \"특상\":\n",
    "        cnt_vs[3]+=1"
   ]
  },
  {
   "cell_type": "code",
   "execution_count": 41,
   "id": "731ef475",
   "metadata": {},
   "outputs": [
    {
     "data": {
      "text/plain": [
       "[1, 372, 309, 202]"
      ]
     },
     "execution_count": 41,
     "metadata": {},
     "output_type": "execute_result"
    }
   ],
   "source": [
    "cnt_vs #1.842 : 1.53 : 1"
   ]
  },
  {
   "cell_type": "code",
   "execution_count": 42,
   "id": "e7e234b1",
   "metadata": {},
   "outputs": [],
   "source": [
    "point = [0.00,0.00,0.00,0.00,0.00,0.00]"
   ]
  },
  {
   "cell_type": "code",
   "execution_count": 43,
   "id": "1af09b70",
   "metadata": {},
   "outputs": [],
   "source": [
    "for row in df.itertuples():\n",
    "    if row[2] in (\"물리\"):\n",
    "        point[feild.index(\"물리\")]+=value[row[1]]\n",
    "    if row[2] in (\"화학\"):\n",
    "        point[feild.index(\"화학\")]+=value[row[1]]\n",
    "    if row[2] in (\"동물\",\"식물\",\"생물\"):\n",
    "        point[feild.index(\"생물\")]+=value[row[1]]\n",
    "    if row[2] in (\"지\",\"지구\",\"지구 및 환경\",\"지구및 환경\",\"지구과학\",\"환경\"):\n",
    "        point[feild.index(\"지구 및 환경\")]+=value[row[1]]\n",
    "    if row[2] in (\"농림수산\"):\n",
    "        point[feild.index(\"농림수산\")]+=value[row[1]]\n",
    "    if row[2] in (\"산업 및 에너지\",\"산업및에너지\",\"사넙및에너지\"):\n",
    "        point[feild.index(\"산업 및 에너지\")]+=value[row[1]]"
   ]
  },
  {
   "cell_type": "code",
   "execution_count": 44,
   "id": "d2bd1072",
   "metadata": {},
   "outputs": [
    {
     "data": {
      "text/plain": [
       "[147.5070899999997,\n",
       " 88.59140999999987,\n",
       " 104.49529999999977,\n",
       " 131.29240999999965,\n",
       " 27.05776000000001,\n",
       " 105.96669999999979]"
      ]
     },
     "execution_count": 44,
     "metadata": {},
     "output_type": "execute_result"
    }
   ],
   "source": [
    "point"
   ]
  },
  {
   "cell_type": "code",
   "execution_count": 45,
   "id": "8d7e9539",
   "metadata": {},
   "outputs": [
    {
     "data": {
      "text/plain": [
       "[0.6774193548387096,\n",
       " 0.676923076923077,\n",
       " 0.6842105263157895,\n",
       " 0.6822916666666666,\n",
       " 0.6923076923076923,\n",
       " 0.6862745098039216]"
      ]
     },
     "execution_count": 45,
     "metadata": {},
     "output_type": "execute_result"
    }
   ],
   "source": [
    "r_point = []\n",
    "for i in range(0,6):\n",
    "    r_point.append(int(point[i])/cnt[i])\n",
    "\n",
    "r_point"
   ]
  },
  {
   "cell_type": "code",
   "execution_count": 46,
   "id": "2f5ae6e6",
   "metadata": {},
   "outputs": [],
   "source": [
    "import matplotlib.pyplot as plt"
   ]
  },
  {
   "cell_type": "code",
   "execution_count": 47,
   "id": "2d1ccb55",
   "metadata": {},
   "outputs": [],
   "source": [
    "plt.rc(\"font\",family = \"NanumGothic\")"
   ]
  },
  {
   "cell_type": "code",
   "execution_count": 48,
   "id": "bbc881d9",
   "metadata": {},
   "outputs": [
    {
     "data": {
      "text/plain": [
       "'Windows'"
      ]
     },
     "execution_count": 48,
     "metadata": {},
     "output_type": "execute_result"
    }
   ],
   "source": [
    "import platform\n",
    "platform.system()"
   ]
  },
  {
   "cell_type": "code",
   "execution_count": 49,
   "id": "e4c388d5",
   "metadata": {},
   "outputs": [],
   "source": [
    "plt.rc(\"font\",family = \"Malgun Gothic\")\n",
    "plt.rc(\"axes\",unicode_minus = False)"
   ]
  },
  {
   "cell_type": "code",
   "execution_count": 50,
   "id": "1a92bc59",
   "metadata": {},
   "outputs": [
    {
     "data": {
      "image/png": "[encoded data removed]",
      "text/plain": [
       "<Figure size 432x288 with 1 Axes>"
      ]
     },
     "metadata": {
      "needs_background": "light"
     },
     "output_type": "display_data"
    }
   ],
   "source": [
    "plt.bar(feild,cnt)\n",
    "plt.xticks(rotation = 40)\n",
    "plt.show()"
   ]
  },
  {
   "cell_type": "code",
   "execution_count": 51,
   "id": "4cc1844b",
   "metadata": {},
   "outputs": [
    {
     "data": {
      "image/png": "[encoded data removed]",
      "text/plain": [
       "<Figure size 432x288 with 1 Axes>"
      ]
     },
     "metadata": {
      "needs_background": "light"
     },
     "output_type": "display_data"
    }
   ],
   "source": [
    "plt.bar(feild,point)\n",
    "plt.xticks(rotation = 40)\n",
    "plt.show()"
   ]
  },
  {
   "cell_type": "code",
   "execution_count": 52,
   "id": "cef463fe",
   "metadata": {},
   "outputs": [
    {
     "data": {
      "image/png": "[encoded data removed]",
      "text/plain": [
       "<Figure size 432x288 with 1 Axes>"
      ]
     },
     "metadata": {
      "needs_background": "light"
     },
     "output_type": "display_data"
    }
   ],
   "source": [
    "plt.bar(feild,r_point)\n",
    "plt.xticks(rotation = 40)\n",
    "plt.show()"
   ]
  },
  {
   "cell_type": "code",
   "execution_count": 53,
   "id": "e8e90e7f",
   "metadata": {},
   "outputs": [],
   "source": [
    "cnt_3y = [0,0,0,0,0,0]\n",
    "\n",
    "for row in df.itertuples():\n",
    "    if int(row[3]) < 2019 :\n",
    "        break\n",
    "    \n",
    "    if row[2] in (\"물리\"):\n",
    "        cnt_3y[feild.index(\"물리\")]+=1\n",
    "    if row[2] in (\"화학\"):\n",
    "        cnt_3y[feild.index(\"화학\")]+=1\n",
    "    if row[2] in (\"동물\",\"식물\",\"생물\"):\n",
    "        cnt_3y[feild.index(\"생물\")]+=1\n",
    "    if row[2] in (\"지\",\"지구\",\"지구 및 환경\",\"지구및 환경\",\"지구과학\",\"환경\"):\n",
    "        cnt_3y[feild.index(\"지구 및 환경\")]+=1\n",
    "    if row[2] in (\"농림수산\"):\n",
    "        cnt_3y[feild.index(\"농림수산\")]+=1\n",
    "    if row[2] in (\"산업 및 에너지\",\"산업및에너지\",\"사넙및에너지\"):\n",
    "        cnt_3y[feild.index(\"산업 및 에너지\")]+=1"
   ]
  },
  {
   "cell_type": "code",
   "execution_count": 54,
   "id": "f81a8c25",
   "metadata": {},
   "outputs": [
    {
     "data": {
      "text/plain": [
       "[46, 44, 37, 39, 0, 47]"
      ]
     },
     "execution_count": 54,
     "metadata": {},
     "output_type": "execute_result"
    }
   ],
   "source": [
    "cnt_3y"
   ]
  },
  {
   "cell_type": "code",
   "execution_count": 55,
   "id": "bd0221ee",
   "metadata": {},
   "outputs": [
    {
     "data": {
      "image/png": "[encoded data removed]",
      "text/plain": [
       "<Figure size 432x288 with 1 Axes>"
      ]
     },
     "metadata": {
      "needs_background": "light"
     },
     "output_type": "display_data"
    }
   ],
   "source": [
    "plt.bar(feild,cnt_3y)\n",
    "plt.xticks(rotation = 40)\n",
    "plt.show()"
   ]
  },
  {
   "cell_type": "code",
   "execution_count": 56,
   "id": "d7edee57",
   "metadata": {},
   "outputs": [],
   "source": [
    "point_3y = [0.00,0.00,0.00,0.00,0.00,0.00]\n",
    "\n",
    "for row in df.itertuples():\n",
    "    if int(row[3]) < 2019 :\n",
    "        break\n",
    "\n",
    "    if row[2] in (\"물리\"):\n",
    "        point_3y[0]+=value[row[1]]\n",
    "    if row[2] in (\"화학\"):\n",
    "        point_3y[1]+=value[row[1]]\n",
    "    if row[2] in (\"동물\",\"식물\",\"생물\"):\n",
    "        point_3y[2]+=value[row[1]]\n",
    "    if row[2] in (\"지\",\"지구\",\"지구 및 환경\",\"지구및 환경\",\"지구과학\",\"환경\"):\n",
    "        point_3y[3]+=value[row[1]]\n",
    "    if row[2] in (\"농림수산\"):\n",
    "        point_3y[4]+=value[row[1]]\n",
    "    if row[2] in (\"산업 및 에너지\",\"산업및에너지\",\"사넙및에너지\"):\n",
    "        point_3y[5]+=value[row[1]]"
   ]
  },
  {
   "cell_type": "code",
   "execution_count": 57,
   "id": "08e543f7",
   "metadata": {},
   "outputs": [
    {
     "data": {
      "text/plain": [
       "[30.650780000000008,\n",
       " 28.886480000000006,\n",
       " 25.418450000000007,\n",
       " 25.257840000000005,\n",
       " 0.0,\n",
       " 31.87220000000001]"
      ]
     },
     "execution_count": 57,
     "metadata": {},
     "output_type": "execute_result"
    }
   ],
   "source": [
    "point_3y"
   ]
  },
  {
   "cell_type": "code",
   "execution_count": 58,
   "id": "45e90f0a",
   "metadata": {},
   "outputs": [
    {
     "data": {
      "image/png": "[encoded data removed]",
      "text/plain": [
       "<Figure size 432x288 with 1 Axes>"
      ]
     },
     "metadata": {
      "needs_background": "light"
     },
     "output_type": "display_data"
    }
   ],
   "source": [
    "x = [\"물리\",\"화학\",\"생물\",\"지구 및 환경\",\"산업 및 에너지\"]\n",
    "plt.bar(feild,point_3y)\n",
    "plt.xticks(rotation = 40)\n",
    "plt.show()"
   ]
  },
  {
   "cell_type": "code",
   "execution_count": 59,
   "id": "873d9452",
   "metadata": {},
   "outputs": [
    {
     "data": {
      "text/plain": [
       "[0.6663213043478262,\n",
       " 0.6565109090909093,\n",
       " 0.6869851351351354,\n",
       " 0.6476369230769232,\n",
       " 0.0,\n",
       " 0.6781319148936172]"
      ]
     },
     "execution_count": 59,
     "metadata": {},
     "output_type": "execute_result"
    }
   ],
   "source": [
    "r_point_3y = []\n",
    "for i in range(0,6):\n",
    "    c3 = cnt_3y[i]\n",
    "    if c3 <= 0.1 :\n",
    "        r_point_3y.append(0.0)\n",
    "    else :\n",
    "        r_point_3y.append(point_3y[i]/c3)\n",
    "\n",
    "r_point_3y"
   ]
  },
  {
   "cell_type": "code",
   "execution_count": 60,
   "id": "39e93697",
   "metadata": {},
   "outputs": [
    {
     "data": {
      "image/png": "[encoded data removed]",
      "text/plain": [
       "<Figure size 432x288 with 1 Axes>"
      ]
     },
     "metadata": {
      "needs_background": "light"
     },
     "output_type": "display_data"
    }
   ],
   "source": [
    "x = [\"물리\",\"화학\",\"생물\",\"지구 및 환경\",\"산업 및 에너지\"]\n",
    "plt.bar(feild,r_point_3y)\n",
    "plt.xticks(rotation = 40)\n",
    "plt.show()"
   ]
  },
  {
   "cell_type": "code",
   "execution_count": 61,
   "id": "eeac5c61",
   "metadata": {},
   "outputs": [
    {
     "data": {
      "text/plain": [
       "[[0, 21, 23, 33, 25, 31, 25, 20, 18, 21],\n",
       " [1, 10, 10, 14, 15, 12, 15, 15, 17, 21],\n",
       " [0, 20, 29, 18, 10, 15, 11, 16, 13, 20],\n",
       " [0, 18, 22, 35, 18, 19, 25, 25, 17, 13],\n",
       " [0, 3, 9, 6, 10, 6, 5, 0, 0, 0],\n",
       " [0, 9, 23, 9, 20, 16, 18, 19, 15, 24]]"
      ]
     },
     "execution_count": 61,
     "metadata": {},
     "output_type": "execute_result"
    }
   ],
   "source": [
    "cnt_t = [[0,0,0,0,0,0,0,0,0,0],\n",
    "         [0,0,0,0,0,0,0,0,0,0],\n",
    "         [0,0,0,0,0,0,0,0,0,0],\n",
    "         [0,0,0,0,0,0,0,0,0,0],\n",
    "         [0,0,0,0,0,0,0,0,0,0],\n",
    "         [0,0,0,0,0,0,0,0,0,0]]\n",
    "\n",
    "for row in df.itertuples():\n",
    "\n",
    "    if row[2] in (\"물리\"):\n",
    "        cnt_t[feild.index(\"물리\")][int(row[3])-2012]+=1\n",
    "    if row[2] in (\"화학\"):\n",
    "        cnt_t[feild.index(\"화학\")][int(row[3])-2012]+=1\n",
    "    if row[2] in (\"동물\",\"식물\",\"생물\"):\n",
    "        cnt_t[feild.index(\"생물\")][int(row[3])-2012]+=1\n",
    "    if row[2] in (\"지\",\"지구\",\"지구 및 환경\",\"지구및 환경\",\"지구과학\",\"환경\"):\n",
    "        cnt_t[feild.index(\"지구 및 환경\")][int(row[3])-2012]+=1\n",
    "    if row[2] in (\"농림수산\"):\n",
    "        cnt_t[feild.index(\"농림수산\")][int(row[3])-2012]+=1\n",
    "    if row[2] in (\"산업 및 에너지\",\"산업및에너지\",\"사넙및에너지\"):\n",
    "        cnt_t[feild.index(\"산업 및 에너지\")][int(row[3])-2012]+=1\n",
    "        \n",
    "cnt_t"
   ]
  },
  {
   "cell_type": "code",
   "execution_count": 80,
   "id": "10194f3d",
   "metadata": {},
   "outputs": [
    {
     "data": {
      "image/png": "[encoded data removed]",
      "text/plain": [
       "<Figure size 432x288 with 1 Axes>"
      ]
     },
     "metadata": {
      "needs_background": "light"
     },
     "output_type": "display_data"
    }
   ],
   "source": [
    "time = [2012,2013,2014,2015,2016,2017,2018,2019,2020,2021]\n",
    "\n",
    "for i in range(0,6):\n",
    "    plt.plot(time,cnt_t[i],label = feild[i])\n",
    "\n",
    "#plt.legend()\n",
    "plt.show()"
   ]
  },
  {
   "cell_type": "code",
   "execution_count": 81,
   "id": "720c4690",
   "metadata": {},
   "outputs": [],
   "source": [
    "pnt_t = [[0,0,0,0,0,0,0,0,0,0],\n",
    "         [0,0,0,0,0,0,0,0,0,0],\n",
    "         [0,0,0,0,0,0,0,0,0,0],\n",
    "         [0,0,0,0,0,0,0,0,0,0],\n",
    "         [0,0,0,0,0,0,0,0,0,0],\n",
    "         [0,0,0,0,0,0,0,0,0,0]]\n",
    "\n",
    "for row in df.itertuples():\n",
    "\n",
    "    if row[2] in (\"물리\"):\n",
    "        pnt_t[feild.index(\"물리\")][int(row[3])-2012]+=value[row[1]]\n",
    "    if row[2] in (\"화학\"):\n",
    "        pnt_t[feild.index(\"화학\")][int(row[3])-2012]+=value[row[1]]\n",
    "    if row[2] in (\"동물\",\"식물\",\"생물\"):\n",
    "        pnt_t[feild.index(\"생물\")][int(row[3])-2012]+=value[row[1]]\n",
    "    if row[2] in (\"지\",\"지구\",\"지구 및 환경\",\"지구및 환경\",\"지구과학\",\"환경\"):\n",
    "        pnt_t[feild.index(\"지구 및 환경\")][int(row[3])-2012]+=value[row[1]]\n",
    "    if row[2] in (\"농림수산\"):\n",
    "        pnt_t[feild.index(\"농림수산\")][int(row[3])-2012]+=value[row[1]]\n",
    "    if row[2] in (\"산업 및 에너지\",\"산업및에너지\",\"사넙및에너지\"):\n",
    "        pnt_t[feild.index(\"산업 및 에너지\")][int(row[3])-2012]+=value[row[1]]"
   ]
  },
  {
   "cell_type": "code",
   "execution_count": 82,
   "id": "4c2f9439",
   "metadata": {},
   "outputs": [
    {
     "data": {
      "image/png": "[encoded data removed]",
      "text/plain": [
       "<Figure size 432x288 with 1 Axes>"
      ]
     },
     "metadata": {
      "needs_background": "light"
     },
     "output_type": "display_data"
    }
   ],
   "source": [
    "time = [2012,2013,2014,2015,2016,2017,2018,2019,2020,2021]\n",
    "\n",
    "for i in range(0,6):\n",
    "    plt.plot(time,pnt_t[i],label = feild[i])\n",
    "\n",
    "#plt.legend()\n",
    "plt.show()"
   ]
  },
  {
   "cell_type": "code",
   "execution_count": 65,
   "id": "c873b3a2",
   "metadata": {},
   "outputs": [
    {
     "data": {
      "image/png": "[encoded data removed]",
      "text/plain": [
       "<Figure size 432x288 with 1 Axes>"
      ]
     },
     "metadata": {
      "needs_background": "light"
     },
     "output_type": "display_data"
    }
   ],
   "source": [
    "r_pnt_t = []\n",
    "\n",
    "for i in range(0,6):\n",
    "    r_pnt_t.append([])\n",
    "    for j in range(1,10):\n",
    "        if cnt_t[i][j] == 0:\n",
    "            r_pnt_t[i].append(0.001)\n",
    "        else :\n",
    "            r_pnt_t[i].append(int(pnt_t[i][j])/cnt_t[i][j])\n",
    "\n",
    "time = [2013,2014,2015,2016,2017,2018,2019,2020,2021]\n",
    "\n",
    "#del r_pnt_t[4]\n",
    "\n",
    "for i in range(0,6):\n",
    "    plt.plot(time,r_pnt_t[i],label = feild[i])\n",
    "\n",
    "plt.ylim([0.45, 0.75])\n",
    "plt.legend()\n",
    "plt.show()"
   ]
  },
  {
   "cell_type": "code",
   "execution_count": 66,
   "id": "9238772a",
   "metadata": {},
   "outputs": [],
   "source": [
    "cnt_mid = [0,0,0,0,0,0]\n",
    "\n",
    "for row in df.itertuples():\n",
    "    if row[5][-3:] == '중학교' or row[5][-1] == \"중\":\n",
    "        if row[2] in (\"물리\"):\n",
    "            cnt_mid[feild.index(\"물리\")]+=1\n",
    "        if row[2] in (\"화학\"):\n",
    "            cnt_mid[feild.index(\"화학\")]+=1\n",
    "        if row[2] in (\"동물\",\"식물\",\"생물\"):\n",
    "            cnt_mid[feild.index(\"생물\")]+=1\n",
    "        if row[2] in (\"지\",\"지구\",\"지구 및 환경\",\"지구및 환경\",\"지구과학\",\"환경\"):\n",
    "            cnt_mid[feild.index(\"지구 및 환경\")]+=1\n",
    "        if row[2] in (\"농림수산\"):\n",
    "            cnt_mid[feild.index(\"농림수산\")]+=1\n",
    "        if row[2] in (\"산업 및 에너지\",\"산업및에너지\",\"사넙및에너지\"):\n",
    "            cnt_mid[feild.index(\"산업 및 에너지\")]+=1"
   ]
  },
  {
   "cell_type": "code",
   "execution_count": 67,
   "id": "7ecd60a1",
   "metadata": {},
   "outputs": [
    {
     "data": {
      "text/plain": [
       "[61, 37, 45, 66, 11, 47]"
      ]
     },
     "execution_count": 67,
     "metadata": {},
     "output_type": "execute_result"
    }
   ],
   "source": [
    "cnt_mid"
   ]
  },
  {
   "cell_type": "code",
   "execution_count": 68,
   "id": "67bd95d7",
   "metadata": {},
   "outputs": [],
   "source": [
    "data_mid = {'수상등급':[],\n",
    "        '분야':[],\n",
    "        '연도':[],\n",
    "        '직위':[],\n",
    "        '소속':[]}\n",
    "\n",
    "for row in df.itertuples():\n",
    "    if row[5][-3:] == '중학교' or row[5][-1] == \"중\":\n",
    "        data_mid['수상등급'].append(row[1])\n",
    "        data_mid['분야'].append(row[2])\n",
    "        data_mid['연도'].append(row[3])\n",
    "        data_mid['직위'].append(row[4])\n",
    "        data_mid['소속'].append(row[5])"
   ]
  },
  {
   "cell_type": "code",
   "execution_count": 69,
   "id": "e8b9e8d7",
   "metadata": {},
   "outputs": [],
   "source": [
    "df_mid = pd.DataFrame(data_mid)"
   ]
  },
  {
   "cell_type": "code",
   "execution_count": 70,
   "id": "fbc73855",
   "metadata": {},
   "outputs": [
    {
     "data": {
      "text/html": [
       "<div>\n",
       "<style scoped>\n",
       "    .dataframe tbody tr th:only-of-type {\n",
       "        vertical-align: middle;\n",
       "    }\n",
       "\n",
       "    .dataframe tbody tr th {\n",
       "        vertical-align: top;\n",
       "    }\n",
       "\n",
       "    .dataframe thead th {\n",
       "        text-align: right;\n",
       "    }\n",
       "</style>\n",
       "<table border=\"1\" class=\"dataframe\">\n",
       "  <thead>\n",
       "    <tr style=\"text-align: right;\">\n",
       "      <th></th>\n",
       "      <th>수상등급</th>\n",
       "      <th>분야</th>\n",
       "      <th>연도</th>\n",
       "      <th>직위</th>\n",
       "      <th>소속</th>\n",
       "    </tr>\n",
       "  </thead>\n",
       "  <tbody>\n",
       "    <tr>\n",
       "      <th>0</th>\n",
       "      <td>장려상</td>\n",
       "      <td>산업 및 에너지</td>\n",
       "      <td>2021</td>\n",
       "      <td>학생</td>\n",
       "      <td>휘문중학교</td>\n",
       "    </tr>\n",
       "    <tr>\n",
       "      <th>1</th>\n",
       "      <td>장려상</td>\n",
       "      <td>산업 및 에너지</td>\n",
       "      <td>2021</td>\n",
       "      <td>학생</td>\n",
       "      <td>휘문중학교</td>\n",
       "    </tr>\n",
       "    <tr>\n",
       "      <th>2</th>\n",
       "      <td>장려상</td>\n",
       "      <td>산업 및 에너지</td>\n",
       "      <td>2021</td>\n",
       "      <td>학생</td>\n",
       "      <td>신서중학교</td>\n",
       "    </tr>\n",
       "    <tr>\n",
       "      <th>3</th>\n",
       "      <td>장려상</td>\n",
       "      <td>산업 및 에너지</td>\n",
       "      <td>2021</td>\n",
       "      <td>학생</td>\n",
       "      <td>상명중학교</td>\n",
       "    </tr>\n",
       "    <tr>\n",
       "      <th>4</th>\n",
       "      <td>장려상</td>\n",
       "      <td>산업 및 에너지</td>\n",
       "      <td>2021</td>\n",
       "      <td>학생</td>\n",
       "      <td>불암중학교</td>\n",
       "    </tr>\n",
       "    <tr>\n",
       "      <th>...</th>\n",
       "      <td>...</td>\n",
       "      <td>...</td>\n",
       "      <td>...</td>\n",
       "      <td>...</td>\n",
       "      <td>...</td>\n",
       "    </tr>\n",
       "    <tr>\n",
       "      <th>262</th>\n",
       "      <td>특상</td>\n",
       "      <td>식물</td>\n",
       "      <td>2013</td>\n",
       "      <td>학생</td>\n",
       "      <td>방배중학교</td>\n",
       "    </tr>\n",
       "    <tr>\n",
       "      <th>263</th>\n",
       "      <td>특상</td>\n",
       "      <td>동물</td>\n",
       "      <td>2013</td>\n",
       "      <td>학생</td>\n",
       "      <td>휘문중학교</td>\n",
       "    </tr>\n",
       "    <tr>\n",
       "      <th>264</th>\n",
       "      <td>특상</td>\n",
       "      <td>화학</td>\n",
       "      <td>2013</td>\n",
       "      <td>학생</td>\n",
       "      <td>신동중학교</td>\n",
       "    </tr>\n",
       "    <tr>\n",
       "      <th>265</th>\n",
       "      <td>특상</td>\n",
       "      <td>화학</td>\n",
       "      <td>2013</td>\n",
       "      <td>학생</td>\n",
       "      <td>오산중학교</td>\n",
       "    </tr>\n",
       "    <tr>\n",
       "      <th>266</th>\n",
       "      <td>특상</td>\n",
       "      <td>물리</td>\n",
       "      <td>2013</td>\n",
       "      <td>학생</td>\n",
       "      <td>한영중학교</td>\n",
       "    </tr>\n",
       "  </tbody>\n",
       "</table>\n",
       "<p>267 rows × 5 columns</p>\n",
       "</div>"
      ],
      "text/plain": [
       "    수상등급        분야    연도  직위     소속\n",
       "0    장려상  산업 및 에너지  2021  학생  휘문중학교\n",
       "1    장려상  산업 및 에너지  2021  학생  휘문중학교\n",
       "2    장려상  산업 및 에너지  2021  학생  신서중학교\n",
       "3    장려상  산업 및 에너지  2021  학생  상명중학교\n",
       "4    장려상  산업 및 에너지  2021  학생  불암중학교\n",
       "..   ...       ...   ...  ..    ...\n",
       "262   특상        식물  2013  학생  방배중학교\n",
       "263   특상        동물  2013  학생  휘문중학교\n",
       "264   특상        화학  2013  학생  신동중학교\n",
       "265   특상        화학  2013  학생  오산중학교\n",
       "266   특상        물리  2013  학생  한영중학교\n",
       "\n",
       "[267 rows x 5 columns]"
      ]
     },
     "execution_count": 70,
     "metadata": {},
     "output_type": "execute_result"
    }
   ],
   "source": [
    "df_mid"
   ]
  },
  {
   "cell_type": "raw",
   "id": "4475f7e4",
   "metadata": {},
   "source": [
    "df_mid.to_excel(\"./df_mid.xlsx\")"
   ]
  },
  {
   "cell_type": "raw",
   "id": "48dede23",
   "metadata": {},
   "source": [
    "df_mid.to_csv(\"./df1.csv\")"
   ]
  },
  {
   "cell_type": "code",
   "execution_count": 71,
   "id": "05c5a366",
   "metadata": {},
   "outputs": [
    {
     "data": {
      "image/png": "[encoded data removed]",
      "text/plain": [
       "<Figure size 432x288 with 1 Axes>"
      ]
     },
     "metadata": {
      "needs_background": "light"
     },
     "output_type": "display_data"
    }
   ],
   "source": [
    "plt.bar(feild,cnt_mid)\n",
    "plt.xticks(rotation = 40)\n",
    "plt.show()"
   ]
  },
  {
   "cell_type": "code",
   "execution_count": 72,
   "id": "ecd722e5",
   "metadata": {},
   "outputs": [],
   "source": [
    "point_mid = [0.00,0.00,0.00,0.00,0.00,0.00]\n",
    "\n",
    "for row in df_mid.itertuples():\n",
    "    if row[2] in (\"물리\"):\n",
    "        point_mid[feild.index(\"물리\")]+=value[row[1]]\n",
    "    if row[2] in (\"화학\"):\n",
    "        point_mid[feild.index(\"화학\")]+=value[row[1]]\n",
    "    if row[2] in (\"동물\",\"식물\",\"생물\"):\n",
    "        point_mid[feild.index(\"생물\")]+=value[row[1]]\n",
    "    if row[2] in (\"지\",\"지구\",\"지구 및 환경\",\"지구및 환경\",\"지구과학\",\"환경\"):\n",
    "        point_mid[feild.index(\"지구 및 환경\")]+=value[row[1]]\n",
    "    if row[2] in (\"농림수산\"):\n",
    "        point_mid[feild.index(\"농림수산\")]+=value[row[1]]\n",
    "    if row[2] in (\"산업 및 에너지\",\"산업및에너지\",\"사넙및에너지\"):\n",
    "        point_mid[feild.index(\"산업 및 에너지\")]+=value[row[1]]"
   ]
  },
  {
   "cell_type": "code",
   "execution_count": 73,
   "id": "b74e3cbf",
   "metadata": {},
   "outputs": [
    {
     "data": {
      "text/plain": [
       "[40.454629999999995,\n",
       " 25.418450000000004,\n",
       " 30.21861000000001,\n",
       " 45.46890999999999,\n",
       " 7.2037700000000005,\n",
       " 31.85792000000001]"
      ]
     },
     "execution_count": 73,
     "metadata": {},
     "output_type": "execute_result"
    }
   ],
   "source": [
    "point_mid"
   ]
  },
  {
   "cell_type": "code",
   "execution_count": 74,
   "id": "0190754f",
   "metadata": {},
   "outputs": [
    {
     "data": {
      "image/png": "[encoded data removed]",
      "text/plain": [
       "<Figure size 432x288 with 1 Axes>"
      ]
     },
     "metadata": {
      "needs_background": "light"
     },
     "output_type": "display_data"
    }
   ],
   "source": [
    "plt.bar(feild,point_mid)\n",
    "plt.xticks(rotation = 40)\n",
    "plt.show()"
   ]
  },
  {
   "cell_type": "code",
   "execution_count": 75,
   "id": "28583ad4",
   "metadata": {},
   "outputs": [
    {
     "data": {
      "text/plain": [
       "[0.6631906557377049,\n",
       " 0.6869851351351353,\n",
       " 0.6715246666666669,\n",
       " 0.6889228787878786,\n",
       " 0.6548881818181819,\n",
       " 0.6778280851063833]"
      ]
     },
     "execution_count": 75,
     "metadata": {},
     "output_type": "execute_result"
    }
   ],
   "source": [
    "r_point_mid = []\n",
    "for i in range(0,6):\n",
    "    cm = cnt_mid[i]\n",
    "    if cm <= 0.1 :\n",
    "        r_point_mid.append(0.0)\n",
    "    else :\n",
    "        r_point_mid.append(point_mid[i]/cm)\n",
    "\n",
    "r_point_mid"
   ]
  },
  {
   "cell_type": "code",
   "execution_count": 76,
   "id": "2b65a67b",
   "metadata": {},
   "outputs": [
    {
     "data": {
      "image/png": "[encoded data removed]",
      "text/plain": [
       "<Figure size 432x288 with 1 Axes>"
      ]
     },
     "metadata": {
      "needs_background": "light"
     },
     "output_type": "display_data"
    }
   ],
   "source": [
    "plt.bar(feild,r_point_mid)\n",
    "plt.xticks(rotation = 40)\n",
    "plt.show()"
   ]
  }
 ],
 "metadata": {
  "kernelspec": {
   "display_name": "Python 3 (ipykernel)",
   "language": "python",
   "name": "python3"
  },
  "language_info": {
   "codemirror_mode": {
    "name": "ipython",
    "version": 3
   },
   "file_extension": ".py",
   "mimetype": "text/x-python",
   "name": "python",
   "nbconvert_exporter": "python",
   "pygments_lexer": "ipython3",
   "version": "3.9.12"
  }
 },
 "nbformat": 4,
 "nbformat_minor": 5
}
